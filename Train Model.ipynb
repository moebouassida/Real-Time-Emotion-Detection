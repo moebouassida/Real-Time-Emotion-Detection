{
 "cells": [
  {
   "cell_type": "code",
   "execution_count": null,
   "id": "36fd7146-19a3-4530-b8b8-b8adbc29ecd7",
   "metadata": {},
   "outputs": [],
   "source": [
    "import tensorflow as tf\n",
    "import cv2\n",
    "import numpy as np\n",
    "import os\n",
    "import matplotlib.pyplot as plt"
   ]
  },
  {
   "cell_type": "code",
   "execution_count": null,
   "id": "20ba7a46-950b-46e8-a739-991a9dfd53c0",
   "metadata": {},
   "outputs": [],
   "source": [
    "dataDirectory = \"imgs/\" # folder that contains the dataset"
   ]
  },
  {
   "cell_type": "code",
   "execution_count": null,
   "id": "885a90ad-c949-4e70-b7a4-7ab4fe0eb629",
   "metadata": {},
   "outputs": [],
   "source": [
    "img_size = 224 #imagenetv2 input size\n",
    "classes = [\"0\", \"1\", \"2\", \"3\", \"4\", \"5\", \"6\"] #list of classes\n",
    "trainingData = []"
   ]
  },
  {
   "cell_type": "code",
   "execution_count": null,
   "id": "6e3d44af-6da0-4afc-b6eb-475346844967",
   "metadata": {},
   "outputs": [],
   "source": [
    "def create_training_data():\n",
    "    for category in classes:\n",
    "        img_path = os.path.join(dataDirectory, category)\n",
    "        for img in os.listdir(img_path):\n",
    "            try:\n",
    "                img_array = cv2.imread(os.path.join(img_path, img))\n",
    "                resized_img = cv2.resize(img_array, (img_size, img_size))\n",
    "                trainingData.append([resized_img, int(category)])\n",
    "            except Exception as e :\n",
    "                pass"
   ]
  },
  {
   "cell_type": "code",
   "execution_count": null,
   "id": "23611108-bc98-4345-9551-cd3133756df5",
   "metadata": {},
   "outputs": [],
   "source": [
    "create_training_data()"
   ]
  },
  {
   "cell_type": "code",
   "execution_count": null,
   "id": "a32523e0-a090-47cd-91e3-73edffbf6a3a",
   "metadata": {},
   "outputs": [],
   "source": [
    "import random\n",
    "random.shuffle(trainingData)"
   ]
  },
  {
   "cell_type": "code",
   "execution_count": null,
   "id": "17f1669b-dd7c-4166-bfb3-6fbfbee99408",
   "metadata": {},
   "outputs": [],
   "source": [
    "X, y = [], []\n",
    "\n",
    "for img, label in trainingData:\n",
    "    X.append(img)\n",
    "    y.append(label)"
   ]
  },
  {
   "cell_type": "code",
   "execution_count": null,
   "id": "d452fa09-7acf-471f-89d7-f3ff433f99fb",
   "metadata": {},
   "outputs": [],
   "source": [
    "X = np.array(X).reshape(-1, img_size, img_size, 3)\n",
    "X = X / 255.0 #normalize the data\n",
    "\n",
    "y = np.array(y)"
   ]
  },
  {
   "cell_type": "code",
   "execution_count": null,
   "id": "b0850569-b05f-4542-9ff1-c691fc35de97",
   "metadata": {},
   "outputs": [],
   "source": [
    "from tensorflow import keras\n",
    "from tensorflow.keras import layers"
   ]
  },
  {
   "cell_type": "code",
   "execution_count": null,
   "id": "4fbd1ddc-0012-4f88-bcac-e36bfc1e29df",
   "metadata": {},
   "outputs": [],
   "source": [
    "model = tf.keras.applications.MobileNetV2()"
   ]
  },
  {
   "cell_type": "code",
   "execution_count": null,
   "id": "f666543e-2c84-494c-8038-d5810abc43ff",
   "metadata": {},
   "outputs": [],
   "source": [
    "model.summary()"
   ]
  },
  {
   "cell_type": "code",
   "execution_count": null,
   "id": "9f6e8f40-3a83-4388-b294-dde4471eb4b4",
   "metadata": {},
   "outputs": [],
   "source": [
    "input = model.layers[0].input\n",
    "output = model.layers[-2].output"
   ]
  },
  {
   "cell_type": "code",
   "execution_count": null,
   "id": "ec83f794-8759-4485-8a1e-a20c506b4aea",
   "metadata": {},
   "outputs": [],
   "source": [
    "finalOutput = layers.Dense(128)(output) # adding dense layer after GlobalAveragePooling layer\n",
    "finalOutput_ = layers.Activation('relu')(finalOutput)\n",
    "finalOutput = layers.Dense(64)(finalOutput_)\n",
    "finalOutput_ = layers.Activation('relu')(finalOutput)\n",
    "finalOutput = layers.Dense(7, activation='softmax')(finalOutput_) # we are working with 7 classes"
   ]
  },
  {
   "cell_type": "code",
   "execution_count": null,
   "id": "93ef0a4a-7f52-4c8e-bd3f-ded84fd8acca",
   "metadata": {},
   "outputs": [],
   "source": [
    "model = keras.Model(inputs= input, outputs= finalOutput)"
   ]
  },
  {
   "cell_type": "code",
   "execution_count": null,
   "id": "89715525-ce71-4ecb-8e48-227996cd89fc",
   "metadata": {},
   "outputs": [],
   "source": [
    "model.summary()"
   ]
  },
  {
   "cell_type": "code",
   "execution_count": null,
   "id": "29b8a4f9-e904-44c3-ad51-a88141f6315f",
   "metadata": {},
   "outputs": [],
   "source": [
    "model.compile(loss='sparse_categorical_crossentropy', optimizer='adam', metrics=['accuracy'])"
   ]
  },
  {
   "cell_type": "code",
   "execution_count": null,
   "id": "a5bdfa6b-09a0-4302-9ad5-de5a3a07b6d6",
   "metadata": {},
   "outputs": [],
   "source": [
    "model.fit(X, y, epochs=20)"
   ]
  },
  {
   "cell_type": "code",
   "execution_count": null,
   "id": "56150dfb-46c2-43bd-993e-d02921abb8d4",
   "metadata": {},
   "outputs": [],
   "source": [
    "model.save(\"final_model.h5\")"
   ]
  }
 ],
 "metadata": {
  "kernelspec": {
   "display_name": "Python 3 (ipykernel)",
   "language": "python",
   "name": "python3"
  },
  "language_info": {
   "codemirror_mode": {
    "name": "ipython",
    "version": 3
   },
   "file_extension": ".py",
   "mimetype": "text/x-python",
   "name": "python",
   "nbconvert_exporter": "python",
   "pygments_lexer": "ipython3",
   "version": "3.9.18"
  }
 },
 "nbformat": 4,
 "nbformat_minor": 5
}
