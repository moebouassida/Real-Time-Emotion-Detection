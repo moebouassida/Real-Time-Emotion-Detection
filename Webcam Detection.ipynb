{
 "cells": [
  {
   "cell_type": "code",
   "execution_count": null,
   "id": "df299d53-ff6c-4aa9-a49f-3c5dda30e9a2",
   "metadata": {},
   "outputs": [],
   "source": [
    "import cv2\n",
    "import numpy as np\n",
    "import tensorflow as tf\n",
    "from tensorflow import keras"
   ]
  },
  {
   "cell_type": "code",
   "execution_count": null,
   "id": "3664849e-245b-479d-bff5-9d3ada873b6d",
   "metadata": {},
   "outputs": [],
   "source": [
    "model = tf.keras.models.load_model(\"final_model.h5\")"
   ]
  },
  {
   "cell_type": "code",
   "execution_count": null,
   "id": "2a45dbcd-4cb2-47be-ae51-77dc409b20d4",
   "metadata": {},
   "outputs": [],
   "source": [
    "path = \"haarcascade_frontalface_default.xml\"\n",
    "fontScale = 1.5\n",
    "font = cv2.FONT_HERSHEY_PLAIN"
   ]
  },
  {
   "cell_type": "code",
   "execution_count": null,
   "id": "bd5f6eb7-33f5-471a-820d-1e3e4485dcd3",
   "metadata": {},
   "outputs": [],
   "source": [
    "img_size = 224"
   ]
  },
  {
   "cell_type": "code",
   "execution_count": null,
   "id": "b1dabb63-96f2-442f-9013-3dd78186f4de",
   "metadata": {},
   "outputs": [],
   "source": [
    "rectangleBGR = (255, 255, 255)\n",
    "img = np.zeros((500, 500))\n",
    "text = \"text\"\n",
    "\n",
    "(textWidth, textHeight) = cv2.getTextSize(text, font, fontScale=fontScale, thickness=1)[0]\n",
    "\n",
    "textOffestX = 10\n",
    "textOffsetY = img.shape[0] - 25\n",
    "\n",
    "boxCoords = ((textOffestX, textOffestX), (textOffestX + textWidth + 2, textOffsetY - textHeight -2))\n",
    "cv2.rectangle(img, boxCoords[0], boxCoords[1], rectangleBGR, cv2.FILLED)\n",
    "cv2.putText(img, text, (textOffestX, textOffsetY), font, fontScale=fontScale, color=(0, 0, 0), thickness=1)"
   ]
  },
  {
   "cell_type": "code",
   "execution_count": null,
   "id": "635d0cd9-12fc-41f1-9b87-948341422cd3",
   "metadata": {},
   "outputs": [],
   "source": [
    "cap = cv2.VideoCapture(1)\n",
    "\n",
    "if not cap.isOpened():\n",
    "    cap = cv2.VideoCapture(0)\n",
    "if not cap.isOpened():\n",
    "    raise IOError(\"Cannot open webcam\")"
   ]
  },
  {
   "cell_type": "code",
   "execution_count": null,
   "id": "875b1613-ec0e-48fa-b91b-699beb212d13",
   "metadata": {},
   "outputs": [],
   "source": [
    "def detectFace():\n",
    "    faceCascade = cv2.CascadeClassifier(cv2.samples.findFile('haarcascade_frontalface_default.xml'))\n",
    "    faces = faceCascade.detectMultiScale(gray, 1.1, 4)\n",
    "    for x, y, w, h in faces:\n",
    "        roi_gray = gray[y:y+h, x:x+h]\n",
    "        roi_color = frame[y:y+h, x:x+h]\n",
    "        cv2.rectangle(frame, (x, y) , (w+x, y+h), (0, 255, 0), 2)\n",
    "        allFaces = faceCascade.detectMultiScale(roi_gray)\n",
    "        if len(allFaces) == 0:\n",
    "            print('no faces detected')\n",
    "        else:\n",
    "            for (ex, ey, ew, eh) in allFaces:\n",
    "                face_roi = roi_color[ey:ey+eh, ex:ex+eh] # cropping the face\n",
    "    \n",
    "    finalImg = cv2.resize(face_roi, (img_size, img_size))\n",
    "    finalImg = np.expand_dims(finalImg, axis= 0) # adding fourth dimension\n",
    "    finalImg = finalImg / 255.0   \n",
    "\n",
    "    return finalImg"
   ]
  },
  {
   "cell_type": "code",
   "execution_count": null,
   "id": "555a1577-aeed-4b7e-ba63-75144ab3f71c",
   "metadata": {},
   "outputs": [],
   "source": [
    "def predictText(frame, status, font):\n",
    "    x, y, w, h = 0, 0, 175, 75\n",
    "    cv2.rectangle(frame, (x1, x1), (x1+w1, y1+h1), (0,0,0), -1)\n",
    "    cv2.putText(frame, status, (x1 + int(w1/10), y1 + int(h1/2)), cv2.FONT_HERSHEY_SIMPLEX, 0.7, (0,0,255), 2)\n",
    "    cv2.putText(frame, status, (100, 150), font, 3, (0,0,255),2,cv2.LINE_4)\n",
    "    cv2.rectangle(frame, (x, y), (x+w, y+h), (0,0,255))"
   ]
  },
  {
   "cell_type": "code",
   "execution_count": null,
   "id": "f91a0215-31ea-41b3-b880-71f763f2bd94",
   "metadata": {},
   "outputs": [],
   "source": [
    "def capture():\n",
    "    while True:\n",
    "        ret, frame = cap.read()\n",
    "        \n",
    "        detectedFace = detectFace()\n",
    "        prediction = model.predict(detectedFace)\n",
    "\n",
    "        fontScale = 1.5\n",
    "        font = cv2.FONT_HERSHEY_PLAIN\n",
    "\n",
    "        if (np.argmax(predictions) == 0):\n",
    "            status=\"Angry\"\n",
    "            predictText(frame, status, font)\n",
    "        elif (np.argmax(predictions) == 1):\n",
    "            status=\"Disgust\"\n",
    "            predictText(frame, status, font)\n",
    "        elif (np.argmax(predictions) == 2):\n",
    "            status=\"Fear\"\n",
    "            predictText(frame, status, font)\n",
    "        elif (np.argmax(predictions) == 3):\n",
    "            status=\"Happy\"\n",
    "            predictText(frame, status, font)\n",
    "        elif (np.argmax(predictions) == 4):\n",
    "            status=\"Sad\"\n",
    "            predictText(frame, status, font)\n",
    "        elif (np.argmax(predictions) == 5):\n",
    "            status=\"Surprise\"\n",
    "            predictText(frame, status, font)\n",
    "        elif (np.argmax(predictions) == 6):\n",
    "            status=\"Neutral\"\n",
    "            predictText(frame, status, font)\n",
    "\n",
    "        cv2.imshow('Face Emotion Recognition',frame)\n",
    "\n",
    "        if cv2.waitKey(2) & 0xFF == ord('q'):\n",
    "            break\n",
    "\n",
    "    cap.release()\n",
    "    cv2.destroyAllWindows()"
   ]
  },
  {
   "cell_type": "code",
   "execution_count": null,
   "id": "80624341-5bc8-4853-acdb-7bfa5c02a22c",
   "metadata": {},
   "outputs": [],
   "source": [
    "capture()"
   ]
  }
 ],
 "metadata": {
  "kernelspec": {
   "display_name": "Python 3 (ipykernel)",
   "language": "python",
   "name": "python3"
  },
  "language_info": {
   "codemirror_mode": {
    "name": "ipython",
    "version": 3
   },
   "file_extension": ".py",
   "mimetype": "text/x-python",
   "name": "python",
   "nbconvert_exporter": "python",
   "pygments_lexer": "ipython3",
   "version": "3.9.18"
  }
 },
 "nbformat": 4,
 "nbformat_minor": 5
}
