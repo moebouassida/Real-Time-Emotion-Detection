{
 "cells": [
  {
   "cell_type": "code",
   "execution_count": 4,
   "id": "5d58fcc2-859e-4198-b243-4f7cf3619c5d",
   "metadata": {},
   "outputs": [],
   "source": [
    "import cv2\n",
    "import numpy as np\n",
    "import tensorflow as tf\n",
    "from tensorflow import keras"
   ]
  },
  {
   "cell_type": "code",
   "execution_count": null,
   "id": "0178ea66-e741-4803-9992-cfa1af4019a6",
   "metadata": {},
   "outputs": [],
   "source": [
    "model = tf.keras.models.load_model(\"final_model.h5\")"
   ]
  },
  {
   "cell_type": "code",
   "execution_count": 2,
   "id": "1dc7abbc-dc58-4f00-bb9e-42e995e943c2",
   "metadata": {},
   "outputs": [],
   "source": [
    "path = \"haarcascade_frontalface_default.xml\"\n",
    "fontScale = 1.5\n",
    "font = cv2.FONT_HERSHEY_PLAIN"
   ]
  },
  {
   "cell_type": "code",
   "execution_count": 5,
   "id": "22b8f761-7dd3-444c-b79e-a36d37ae989b",
   "metadata": {},
   "outputs": [
    {
     "data": {
      "text/plain": [
       "array([[0., 0., 0., ..., 0., 0., 0.],\n",
       "       [0., 0., 0., ..., 0., 0., 0.],\n",
       "       [0., 0., 0., ..., 0., 0., 0.],\n",
       "       ...,\n",
       "       [0., 0., 0., ..., 0., 0., 0.],\n",
       "       [0., 0., 0., ..., 0., 0., 0.],\n",
       "       [0., 0., 0., ..., 0., 0., 0.]])"
      ]
     },
     "execution_count": 5,
     "metadata": {},
     "output_type": "execute_result"
    }
   ],
   "source": [
    "rectangleBGR = (255, 255, 255)\n",
    "img = np.zeros((500, 500))\n",
    "text = \"Some text in a box!\"\n",
    "\n",
    "(textWidth, textHeight) = cv2.getTextSize(text, font, fontScale=fontScale, thickness=1)[0]\n",
    "\n",
    "textOffestX = 10\n",
    "textOffsetY = img.shape[0] - 25\n",
    "\n",
    "boxCoords = ((textOffestX, textOffestX), (textOffestX + textWidth + 2, textOffsetY - textHeight -2))\n",
    "cv2.rectangle(img, boxCoords[0], boxCoords[1], rectangleBGR, cv2.FILLED)\n",
    "cv2.putText(img, text, (textOffestX, textOffsetY), font, fontScale=fontScale, color=(0, 0, 0), thickness=1)"
   ]
  },
  {
   "cell_type": "code",
   "execution_count": 6,
   "id": "c9fd6aec-02df-4599-a3df-71410e36eabb",
   "metadata": {},
   "outputs": [],
   "source": [
    "cap = cv2.VideoCapture(1)\n",
    "\n",
    "if not cap.isOpened():\n",
    "    cap = cv2.VideoCapture(0)\n",
    "if not cap.isOpened():\n",
    "    raise IOError(\"Cannot open webcam\")"
   ]
  },
  {
   "cell_type": "code",
   "execution_count": null,
   "id": "6aebb2fd-f6ee-4f59-96ea-acd4fe258629",
   "metadata": {},
   "outputs": [],
   "source": [
    "def detectFace():\n",
    "    faceCascade = cv2.CascadeClassifier(cv2.samples.findFile('haarcascade_frontalface_default.xml'))\n",
    "    faces = faceCascade.detectMultiScale(gray, 1.1, 4)\n",
    "    for x, y, w, h in faces:\n",
    "        roi_gray = gray[y:y+h, x:x+h]\n",
    "        roi_color = frame[y:y+h, x:x+h]\n",
    "        cv2.rectangle(frame, (x, y) , (w+x, y+h), (0, 255, 0), 2)\n",
    "        allFaces = faceCascade.detectMultiScale(roi_gray)\n",
    "        if len(allFaces) == 0:\n",
    "            print('no faces detected')\n",
    "        else:\n",
    "            for (ex, ey, ew, eh) in allFaces:\n",
    "                face_roi = roi_color[ey:ey+eh, ex:ex+eh] # cropping the face\n",
    "    \n",
    "    finalImg = cv2.resize(face_roi, (img_size, img_size))\n",
    "    finalImg = np.expand_dims(finalImg, axis= 0) # adding fourth dimension\n",
    "    finalImg = finalImg / 255.0   \n",
    "\n",
    "    return finalImg"
   ]
  },
  {
   "cell_type": "code",
   "execution_count": null,
   "id": "b8538f0c-930f-417f-a9b0-9d167389b72d",
   "metadata": {},
   "outputs": [],
   "source": [
    "def predict(img):\n",
    "    model = tf.keras.models.load_model('model.h5')\n",
    "    pred = model.predict(img)\n",
    "    return pred"
   ]
  },
  {
   "cell_type": "code",
   "execution_count": null,
   "id": "3f657ca4-2802-43da-8e8d-7c1cbcc52fd1",
   "metadata": {},
   "outputs": [],
   "source": [
    "def predictText(frame, status, font):\n",
    "    x, y, w, h = 0, 0, 175, 75\n",
    "    cv2.rectangle(frame, (x1, x1), (x1+w1, y1+h1), (0,0,0), -1)\n",
    "    cv2.putText(frame, status, (x1 + int(w1/10), y1 + int(h1/2)), cv2.FONT_HERSHEY_SIMPLEX, 0.7, (0,0,255), 2)\n",
    "    cv2.putText(frame, status, (100, 150), font, 3, (0,0,255),2,cv2.LINE_4)\n",
    "    cv2.rectangle(frame, (x, y), (x+w, y+h), (0,0,255))"
   ]
  },
  {
   "cell_type": "code",
   "execution_count": null,
   "id": "9c1bf4ec-c217-4c13-9eb9-ce9a0b6bf5e7",
   "metadata": {},
   "outputs": [],
   "source": [
    "def capture():\n",
    "    while True:\n",
    "        ret, frame = cap.read()\n",
    "        \n",
    "        detectedFace = detectFace()\n",
    "        prediction = predict(detectedFace)\n",
    "\n",
    "        fontScale = 1.5\n",
    "        font = cv2.FONT_HERSHEY_PLAIN\n",
    "\n",
    "        if (np.argmax(predictions) == 0):\n",
    "            status=\"Angry\"\n",
    "            predictText(frame, status, font)\n",
    "        elif (np.argmax(predictions) == 1):\n",
    "            status=\"Disgust\"\n",
    "            predictText(frame, status, font)\n",
    "        elif (np.argmax(predictions) == 2):\n",
    "            status=\"Fear\"\n",
    "            predictText(frame, status, font)\n",
    "        elif (np.argmax(predictions) == 3):\n",
    "            status=\"Happy\"\n",
    "            predictText(frame, status, font)\n",
    "        elif (np.argmax(predictions) == 4):\n",
    "            status=\"Sad\"\n",
    "            predictText(frame, status, font)\n",
    "        elif (np.argmax(predictions) == 5):\n",
    "            status=\"Surprise\"\n",
    "            predictText(frame, status, font)\n",
    "        elif (np.argmax(predictions) == 6):\n",
    "            status=\"Neutral\"\n",
    "            predictText(frame, status, font)\n",
    "\n",
    "        cv2.imshow('Face Emotion Recognition',frame)\n",
    "\n",
    "        if cv2.waitKey(2) & 0xFF == ord('q'):\n",
    "            break\n",
    "\n",
    "    cap.release()\n",
    "    cv2.destroyAllWindows()"
   ]
  },
  {
   "cell_type": "code",
   "execution_count": null,
   "id": "94a77217-e63a-4e1d-b1eb-8186e1f2444f",
   "metadata": {},
   "outputs": [],
   "source": [
    "capture()"
   ]
  }
 ],
 "metadata": {
  "kernelspec": {
   "display_name": "Python 3 (ipykernel)",
   "language": "python",
   "name": "python3"
  },
  "language_info": {
   "codemirror_mode": {
    "name": "ipython",
    "version": 3
   },
   "file_extension": ".py",
   "mimetype": "text/x-python",
   "name": "python",
   "nbconvert_exporter": "python",
   "pygments_lexer": "ipython3",
   "version": "3.9.18"
  }
 },
 "nbformat": 4,
 "nbformat_minor": 5
}
